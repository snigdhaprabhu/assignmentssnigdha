{
 "cells": [
  {
   "cell_type": "code",
   "execution_count": 1,
   "metadata": {
    "collapsed": false
   },
   "outputs": [
    {
     "name": "stdout",
     "output_type": "stream",
     "text": [
      "['road', 'ribbon', 'riding', 'riding', 'riding', 'riding']\n"
     ]
    }
   ],
   "source": [
    " lyrics= '''the wind was a torrent of darkness among the gusty trees   \n",
    "   the moon was a ghostly galleon tossed upon cloudy seas   \n",
    "   the road was a ribbon of moonlight over the purple moor   \n",
    "   and the highwayman came riding \n",
    "   riding riding \n",
    "   the highwayman came riding, up to the old inn-door \n",
    "   '''\n",
    "words = lyrics.replace(', ',' ').split(' ')\n",
    "print [w for w in words if w.startswith('r')]\n"
   ]
  },
  {
   "cell_type": "code",
   "execution_count": 2,
   "metadata": {
    "collapsed": false
   },
   "outputs": [
    {
     "data": {
      "text/plain": [
       "{'ribbon', 'riding', 'road'}"
      ]
     },
     "execution_count": 2,
     "metadata": {},
     "output_type": "execute_result"
    }
   ],
   "source": [
    "lyrics= '''the wind was a torrent of darkness among the gusty trees   \n",
    "   the moon was a ghostly galleon tossed upon cloudy seas   \n",
    "   the road was a ribbon of moonlight over the purple moor   \n",
    "   and the highwayman came riding \n",
    "   riding riding \n",
    "   the highwayman came riding, up to the old inn-door \n",
    "   '''\n",
    "words = lyrics.replace(', ',' ').split(' ')\n",
    "set ([w for w in words if w.startswith('r')])\n"
   ]
  },
  {
   "cell_type": "code",
   "execution_count": 3,
   "metadata": {
    "collapsed": false
   },
   "outputs": [
    {
     "name": "stdout",
     "output_type": "stream",
     "text": [
      "set(['riding', 'ribbon', 'road'])\n"
     ]
    }
   ],
   "source": [
    "lyrics= '''the wind was a torrent of darkness among the gusty trees   \n",
    "   the moon was a ghostly galleon tossed upon cloudy seas   \n",
    "   the road was a ribbon of moonlight over the purple moor   \n",
    "   and the highwayman came riding \n",
    "   riding riding \n",
    "   the highwayman came riding, up to the old inn-door \n",
    "   '''\n",
    "words = lyrics.replace(', ',' ').split(' ')\n",
    "print {w for w in words if w.startswith('r')}"
   ]
  },
  {
   "cell_type": "code",
   "execution_count": 4,
   "metadata": {
    "collapsed": false
   },
   "outputs": [
    {
     "name": "stdout",
     "output_type": "stream",
     "text": [
      "{'riding': 4, 'ribbon': 1, 'road': 1}\n"
     ]
    }
   ],
   "source": [
    "lyrics= '''the wind was a torrent of darkness among the gusty trees   \n",
    "   the moon was a ghostly galleon tossed upon cloudy seas   \n",
    "   the road was a ribbon of moonlight over the purple moor   \n",
    "   and the highwayman came riding \n",
    "   riding riding \n",
    "   the highwayman came riding, up to the old inn-door \n",
    "   '''\n",
    "words = lyrics.replace(', ',' ').split(' ')\n",
    "print {w : words.count(w) for w in words if w.startswith('r')}\n"
   ]
  },
  {
   "cell_type": "code",
   "execution_count": null,
   "metadata": {
    "collapsed": true
   },
   "outputs": [],
   "source": []
  }
 ],
 "metadata": {
  "kernelspec": {
   "display_name": "Python 2",
   "language": "python",
   "name": "python2"
  },
  "language_info": {
   "codemirror_mode": {
    "name": "ipython",
    "version": 2
   },
   "file_extension": ".py",
   "mimetype": "text/x-python",
   "name": "python",
   "nbconvert_exporter": "python",
   "pygments_lexer": "ipython2",
   "version": "2.7.11"
  }
 },
 "nbformat": 4,
 "nbformat_minor": 0
}
