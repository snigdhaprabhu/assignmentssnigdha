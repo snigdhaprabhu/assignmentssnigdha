{
 "cells": [
  {
   "cell_type": "code",
   "execution_count": 4,
   "metadata": {
    "collapsed": false
   },
   "outputs": [
    {
     "name": "stdout",
     "output_type": "stream",
     "text": [
      "Please enter the number of terms? 10\n",
      "Fibonacci sequence with 2 numbers in each line is as follows\n",
      "0 1\n",
      "1 2\n",
      "3 5\n",
      "8 13\n",
      "21 34\n"
     ]
    }
   ],
   "source": [
    "def fibonacci(n):\n",
    "  \n",
    "   if n <= 1:\n",
    "       return n\n",
    "   else:\n",
    "       return(fibonacci(n-1) + fibonacci(n-2))\n",
    "\n",
    "noofterms = int(input(\"Please enter the number of terms? \"))\n",
    "\n",
    "if noofterms <= 0:\n",
    "   print(\"Plese enter a positive integer\")\n",
    "else:\n",
    "   print(\"Fibonacci sequence with 2 numbers in each line is as follows\")\n",
    "   result = []\n",
    "   for i in range(noofterms):     \n",
    "       result.append(fibonacci(i));\n",
    "\n",
    "displayitems = 2\n",
    "\n",
    "for n, item in enumerate(result):\n",
    "    if (n+1) % displayitems:\n",
    "        print item,\n",
    "    else:\n",
    "        print item\n",
    "\n",
    "        "
   ]
  },
  {
   "cell_type": "code",
   "execution_count": 2,
   "metadata": {
    "collapsed": false
   },
   "outputs": [
    {
     "name": "stdout",
     "output_type": "stream",
     "text": [
      "It is palindrome\n"
     ]
    }
   ],
   "source": [
    "Str = \"DAD\"\n",
    "if list(Str) == list(reversed(Str)):\n",
    "   print(\"It is palindrome\")\n",
    "else:\n",
    "   print(\"It is not palindrome\")"
   ]
  },
  {
   "cell_type": "code",
   "execution_count": null,
   "metadata": {
    "collapsed": true
   },
   "outputs": [],
   "source": []
  }
 ],
 "metadata": {
  "kernelspec": {
   "display_name": "Python 2",
   "language": "python",
   "name": "python2"
  },
  "language_info": {
   "codemirror_mode": {
    "name": "ipython",
    "version": 2
   },
   "file_extension": ".py",
   "mimetype": "text/x-python",
   "name": "python",
   "nbconvert_exporter": "python",
   "pygments_lexer": "ipython2",
   "version": "2.7.11"
  }
 },
 "nbformat": 4,
 "nbformat_minor": 0
}
